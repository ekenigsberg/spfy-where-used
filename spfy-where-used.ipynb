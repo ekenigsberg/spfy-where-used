{
 "cells": [
  {
   "cell_type": "code",
   "execution_count": 1,
   "id": "bfeeb240-d21b-4a34-b40a-b06af1ab54df",
   "metadata": {},
   "outputs": [],
   "source": [
    "# import dependencies\n",
    "from resources.config import strUsername, strPassword, strToken\n",
    "from simple_salesforce import Salesforce\n",
    "import pandas as pd"
   ]
  },
  {
   "cell_type": "code",
   "execution_count": 2,
   "id": "2ffe7918-9d24-4741-9046-dab04141d171",
   "metadata": {},
   "outputs": [],
   "source": [
    "# log in to Salesforce & connect to metadata API\n",
    "sf = Salesforce(username=strUsername, password=strPassword, security_token=strToken)"
   ]
  },
  {
   "cell_type": "code",
   "execution_count": 4,
   "id": "8e87e2ea-5097-402a-9997-baa934c073ac",
   "metadata": {
    "tags": []
   },
   "outputs": [],
   "source": [
    "# create a dictionary mapping custom objects' IDs to API Names\n",
    "dfObj = pd.DataFrame(sf.toolingexecute('query/?q=SELECT+Id,+DeveloperName+FROM+CustomObject')['records'])\n",
    "dfObj = dfObj.drop('attributes', axis=1)\n",
    "dfObj = dfObj.rename(columns={'Id':'ObjAPIId', 'DeveloperName':'ObjAPIName'})\n",
    "dfObj = dfObj.set_index('ObjAPIId')\n",
    "dfObj['ObjAPIName'] = dfObj['ObjAPIName'] + '__c'\n",
    "dictObj = dfObj['ObjAPIName'].to_dict()"
   ]
  },
  {
   "cell_type": "code",
   "execution_count": 8,
   "id": "10c25477-c996-411b-8718-9cc288c9bf6a",
   "metadata": {},
   "outputs": [],
   "source": [
    "# create a dataframe of all custom fields\n",
    "dfFld = pd.DataFrame(sf.toolingexecute('query/?q=SELECT+Id,+DeveloperName,+TableEnumOrId+FROM+CustomField')['records'])\n",
    "dfFld = dfFld.drop('attributes', axis=1)\n",
    "dfFld['TableEnumOrId'] = dfFld['TableEnumOrId'].replace(dictObj)\n",
    "dfFld = dfFld.rename(columns={'Id':'RefMetadataComponentId', 'DeveloperName':'FldAPIName', 'TableEnumOrId':'ObjAPIName'})\n",
    "dfFld = dfFld[['RefMetadataComponentId', 'ObjAPIName', 'FldAPIName']]\n",
    "dfFld['FldAPIName'] = dfFld['FldAPIName'] + '__c'\n",
    "dfFld = dfFld.set_index('RefMetadataComponentId')"
   ]
  },
  {
   "cell_type": "code",
   "execution_count": 10,
   "id": "fb0aafbf-dcf4-4a8a-8f39-eb4b036da4f0",
   "metadata": {},
   "outputs": [],
   "source": [
    "# create a \"Where Used?\" dataframe of all custom fields' MetadataComponents\n",
    "dfWhereUsed = pd.DataFrame(sf.toolingexecute('query/?q=SELECT+RefMetadataComponentId,+MetadataComponentId,+MetadataComponentType,+MetadataComponentName+FROM+MetadataComponentDependency+WHERE+RefMetadataComponentId+LIKE+\\'00N%\\'')['records'])\n",
    "dfWhereUsed = dfWhereUsed.drop('attributes', axis=1)\n",
    "dfWhereUsed = pd.merge(dfWhereUsed, dfFld, on=['RefMetadataComponentId'])\n",
    "dfWhereUsed = dfWhereUsed[['RefMetadataComponentId', 'ObjAPIName', 'FldAPIName', 'MetadataComponentId', 'MetadataComponentType', 'MetadataComponentName']]\n",
    "dfWhereUsed = dfWhereUsed.sort_values(['ObjAPIName', 'FldAPIName', 'MetadataComponentType', 'MetadataComponentName'], ascending=True)\n",
    "dfWhereUsed.to_excel('WhereUsed.xlsx')"
   ]
  }
 ],
 "metadata": {
  "kernelspec": {
   "display_name": "Python 3 (ipykernel)",
   "language": "python",
   "name": "python3"
  },
  "language_info": {
   "codemirror_mode": {
    "name": "ipython",
    "version": 3
   },
   "file_extension": ".py",
   "mimetype": "text/x-python",
   "name": "python",
   "nbconvert_exporter": "python",
   "pygments_lexer": "ipython3",
   "version": "3.10.4"
  }
 },
 "nbformat": 4,
 "nbformat_minor": 5
}
